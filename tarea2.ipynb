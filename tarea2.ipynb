{
 "cells": [
  {
   "cell_type": "markdown",
   "id": "fc0b80d5",
   "metadata": {},
   "source": [
    "## Tarea "
   ]
  },
  {
   "cell_type": "markdown",
   "id": "ac7a5b9a",
   "metadata": {},
   "source": [
    "### 1. Identificar las siguiente bacterias usando la base de datos 16S del NCBI"
   ]
  },
  {
   "cell_type": "code",
   "execution_count": null,
   "id": "db1fd3ad",
   "metadata": {},
   "outputs": [],
   "source": [
    ">ASV4922\n",
    "GAATCTTCCACAATGGGCGCAAGCCTGATGGAGCAACGCCGCGTGTGTGATGAAGGGTTTCGGCTCGTAAAACTCTGTTG\n",
    "TTAAAGAAGAACGTATCTAAGAGTAACTGCTTAGGTAGTGACGGTATTTAACCAGAAAGCCACGGCTAACTACGTGCCAG\n",
    "CAGCCGCGGTAATACGTAGGTGGCAAGCGTTATCCGGATTTATTGGGCGTAAAGCGAGCGCAGGCGGTTTTTTAAGTCTG\n",
    "ATGTGAAAGCCTTCGGCTTAACCGAAGAAGTGCATCGGAAACTGGGAAACTTGAGTGCAGAAGAGGACAGTGGAACTCCA\n",
    "TGTGTAGCGGTGAAATGCGTAGATATATGGAAGAACACCAGTGGCGAAGGCGGCTGTCTAGTCTGTAACTGACGCTGAGG\n",
    "CTCGAAAGCATGGGTAGCG\n",
    ">ASV4928\n",
    "GAATCTTCCACAATGGGCGCAAGCCTGATGGAGCAACGCCGCGTGTGTGATGAAGGGTTTCGGCTCGTAAAACTCTGTTG\n",
    "TTAAAGAAGAACGTATCTAAGAGTAACTGCTTAGGTAGTGACGGTATTTAACCAGAAAGCCACGGCTAACTACGTGCCAG\n",
    "CAGCCGCGGTAATACGTAGGTGGCAAGCGTTGTCCGGATTTATTGGGCGTAAAGCGAGCGCAGGCGGTTTTTTAAGTCTG\n",
    "ATGTGAAAGCCTTCGGCTCAACCGAAGAAGTGCATCGGAAACTGGGAAACTTGAGTGCAGAAGAGGACAGTGGAACTCCA\n",
    "TGTGTAGCGGTGAAATGCGTAGATATATGGAAGAACACCAGTGGCGAAGGCGGCTTTCTGGACTGTAACTGACGTTGAGG\n",
    "CTCGAAAGTGTGGGTAGCA\n",
    ">ASV4934\n",
    "GAATATTGCACAATGGGCGCAAGCCTGATGCAGCGACGCCGCGTGGGGGATGACGGCCTTCGGGTTGTAAACCTCTTTCA\n",
    "GTAGGGGACAAGGCCACACAGTGTGTGGTGGAGGGTACCTGCAGAAGAAGTACCGGCTAACTACGTGCCAGCAGCCGCGG\n",
    "TAATACGTAGGGTACTAGCGTTGTCCGGAATTATTGGGCGTAAAGAGCTCGTAGGCGGTTGGTCGCGTCTGCTGTGGAAT\n",
    "CACACTGCTTAACGGTGTGCGTGCAGTGGGTACGGGCCGGCTGGAGTGCAGTAGGGGAGTCTGGAATTCCTGGTGTAGCG\n",
    "GTGAAATGCGCAGATATCAGGAGGAACACCGGTGGCGAAGGCGGGACTCTGGGCTGTTACTGACGCTGAGGAGCGAAAGC\n",
    "ATGGGGAGCGAACA\n",
    ">ASV4937\n",
    "GAATCTTCGGCAATGGACGAAAGTCTGACCGAGCAACGCCGCGTGAGTGAAGAAGGTTTTCGGATCGTAAAGCTCTGTTG\n",
    "TAAGAGAAGAACGAGTGTGAGAGTGGAAAGTTCACACTGTGACGGTATCTTACCAGAAAGGGACGGCTAACTACGTGCCA\n",
    "GCAGCCGCGGTAATACGTAGGTCCCGAGCGTTGTCCGGATTTATTGGGCGTAAAGCGAGCGCAGGCGGTTAGATAAGTCT\n",
    "GAAGTTAAAGGCTGTGGCTTAACCATAGTACGCTTTGGAAACTGTTTAACTTGAGTGCAAGAGGGGAGAGTGGAATTCCA\n",
    "TGTGTAGCGGTGAAATGCGTAGATATATGGAGGAACACCGGTGGCGAAAGCGGCTCTCTGGCTTGTAACTGACGCTGAGG\n",
    "CTCGAAA\n",
    ">ASV4947\n",
    "GAATCTTCCACAATGGGCGCAAGCCTGATGGAGCAACGCCGCGTGTGTGATGAAGGGTTTCGGCTCGTAAAACTCTGTTG\n",
    "TTAAAGAAGAACATATCTGAGAGTAACTGTTCAGGTATTGACGGTATTTAACCAGAAAGCCACGGCTAACTACGTGCCAG\n",
    "CAGCCGCGGTAATACGTAGGTGGCAAGCGTTGTCCGGATTTATTGGGCGTAAAGCGAGCGCAGGCGGTTTTTTAAGTCTG\n",
    "ATGTGAAAGCCCGGAGCTCAACTCCGGAATGGCATTGGAAACTGGTTAACTTGAGTGCAGTAGAGGTAAGTGGAACTCCA\n",
    "TGTGTAGCGGTGGAATGCGTAGATATATGGAAGAACACCAGTGGCGAAGGCGGCTTACTGGACTGTAACTGACGTTGAGG\n",
    "CTCGAAAGTGTGGGTAGCAAAC\n",
    ">ASV7282\n",
    "GAATCTTCCGCAATGGACGAAAGTCTGACGGAGCAACGCCGCGTGAGTGATGAAGGCTTTCGGGTCGTAAAACTCTGTTG\n",
    "TTAGGGAAGAACAAGTGCTAGTTGAATAAGCTGGCACCTTGACGGTACCTAACCAGAAAGCCACGGCTAACTACGTGCCA\n",
    "GCAGCCGCGGTAATACGTAGGTGGCAAGCGTTATCCGGAATTATTGGGCGTAAAGCGCGCGCAGGTGGTTTCTTAAGTCT\n",
    "GATGTGAAAGCCCACGGCTCAACCGTGGAGGGTCATTGGAAACTGGGAGACTTGAGTGCAGAAGAGGAAAGTGGAATTCC\n",
    "ATGTGTAGCGGTGAAATGCGTAGAGATATGGAAGAACACCAGTGGCGAAGGCGGCTGTCTGGTCTGTAACTGACGCTGAG\n",
    "GCTCGAAAGCATGGGTAGCGAA\n",
    ">ASV7302\n",
    "GAATATTGCACAATGGGCGCAAGCCTGATGCAGCCATGCCGCGTGTGTGATGAAGGGTTTCGGCTCGTAAAACACTGTTA\n",
    "TAAGAGAAGAACGGCACTGAGAGTAACTGTTCAGTGTGTGACGGTATCTTACCAGAAAGGAACGGCTAAATACGTGCCAG\n",
    "CAGCCGCGGTAATACGTATGTTCCAAGCGTTATCCGGATTTATTGGGCGTAAAGCGAGCGCAGACGGTTATTTAAGTCTG\n",
    "AAGTGAAAGCCCTCAGCTCAACTGAGGAATGGCTTTGGAAACTGGATGACTTGAGTGCAGTAGAGGAAAGTGGAACTCCA\n",
    "TGTGTAGCGGTGAAATGCGTAGATATATGGAAGAACACCAGTGGCGAAGGCGGCTGTCTGGTCTGTAACTGACGCTGAGG\n",
    "CTCGAAAGCATGGGTAGCGAAC\n",
    ">ASV1\n",
    "GAATATTGGACAATGGGGGCAACCCTGATCCAGCAATGCCGCGTGTGTGAAGAAGGTCTTCGGATTGTAAAGCACTTTCG\n",
    "ACGGGGACGATGATGACGGTACCCGTAGAAGAAGCCCCGGCTAACTTCGTGCCAGCAGCCGCGGTAATACGAAGGGGGCT\n",
    "AGCGTTGCTCGGAATGACTGGGCGTAAAGGGCGTGTAGGCGGTTTGTACAGTCAGATGTGAAATCCCCGGGCTTAACCTG\n",
    "GGAGCTGCATTTGATACGTGCAGACTAGAGTGTGAGAGAGGGTTGTGGAATTCCCAGTGTAGAGGTGAAATTCGTAGATA\n",
    "TTGGGAAGAACACCGGTGGCGAAGGCGGCAACCTGGCTCATTACTGACGCTGAGGCGCGAAAGCGTGGGGAGCAAACA\n",
    ">ASV20\n",
    "GAATATTGGACAATGGGCGAAAGCCTGATCCAGCAATGCCGCGTGTGTGAAGAAGGTCTTCGGATTGTAAAGCACTTTCG\n",
    "ACGGGGACGATGATGACGGTACCCGTAGAAGAAGCCCCGGCTAACTTCGTGCCAGCAGCCGCGGTAATACGAAGGGGGCT\n",
    "AGCGTTGCTCGGAATGACTGGGCGTAAAGGGCGCGTAGGCGGTTGATGCAGTCAGATGTGAAATCCCCGGGCTTAACCTG\n",
    "GGAACTGCATTTGAGACGCATTGACTAGAGTTCGAGAGAGGGTTGTGGAATTCCCAGTGTAGAGGTGAAATTCGTAGATA\n",
    "TTGGGAAGAACACCGGTGGCGAAGGCGGCAACCTGGCTCGATACTGACGCTGAGGCGCGAAAGCGTGGGGAGCAAACA"
   ]
  },
  {
   "cell_type": "code",
   "execution_count": 1,
   "id": "9d46e282",
   "metadata": {},
   "outputs": [],
   "source": [
    "import os"
   ]
  },
  {
   "cell_type": "code",
   "execution_count": 2,
   "id": "96a0ac25",
   "metadata": {},
   "outputs": [],
   "source": [
    "os.makedirs('sequences.fasta2',exist_ok=True)"
   ]
  },
  {
   "cell_type": "code",
   "execution_count": 4,
   "id": "2cada8fd",
   "metadata": {},
   "outputs": [],
   "source": [
    "import subprocess, re"
   ]
  },
  {
   "cell_type": "code",
   "execution_count": 5,
   "id": "953af6f5",
   "metadata": {},
   "outputs": [
    {
     "name": "stdout",
     "output_type": "stream",
     "text": [
      "Archivos generados: tree2.txt y alig2.txt\n"
     ]
    }
   ],
   "source": [
    "#----------------\n",
    "info10 = subprocess.Popen('binarios/clustalo.exe --infile bacters --threads 4 --MAC-RAM 8000 --verbose --guidetree-out tree2.txt --outfmt clustal --force --resno --outfile alig2.txt --output-order tree-order --seqtype protein',\n",
    "                stdout=subprocess.PIPE, stderr=subprocess.PIPE)\n",
    "info100 = info10.communicate()[0].decode()\n",
    "\n",
    "\n",
    "arbol1 = open('tree2.txt', 'r')\n",
    "arbol = arbol1.read()\n",
    "arbol1.close()\n",
    "arbol = ''.join(arbol.split('\\n'))\n",
    "arbol = re.sub(';$', 'root;', arbol)\n",
    "\n",
    "print('Archivos generados: tree2.txt y alig2.txt')"
   ]
  },
  {
   "cell_type": "code",
   "execution_count": 11,
   "id": "7bc9cd38",
   "metadata": {},
   "outputs": [
    {
     "name": "stdout",
     "output_type": "stream",
     "text": [
      "((ASV4934:0.272947,ASV7282:0.272947):0.0421992,(ASV7302:0.335913,((ASV4922:0.28401,ASV4928:0.28401):0.0388156,(ASV4947:0.314806,(ASV4937:0.297111,(ASV1:0.262563,ASV20:0.262563):0.0345477):0.0176952):0.00801936):0.0130883):-0.0207674)root;\n"
     ]
    }
   ],
   "source": [
    "print(arbol)"
   ]
  },
  {
   "cell_type": "code",
   "execution_count": null,
   "id": "0c5f7f7d",
   "metadata": {},
   "outputs": [],
   "source": []
  },
  {
   "cell_type": "code",
   "execution_count": 12,
   "id": "b5aa4e37",
   "metadata": {},
   "outputs": [],
   "source": [
    "from IPython.display import IFrame"
   ]
  },
  {
   "cell_type": "code",
   "execution_count": 13,
   "id": "3fe99770",
   "metadata": {},
   "outputs": [
    {
     "data": {
      "text/html": [
       "\n",
       "        <iframe\n",
       "            width=\"700\"\n",
       "            height=\"600\"\n",
       "            src=\"MViewtarea2.html\"\n",
       "            frameborder=\"0\"\n",
       "            allowfullscreen\n",
       "        ></iframe>\n",
       "        "
      ],
      "text/plain": [
       "<IPython.lib.display.IFrame at 0x1f4bfb60320>"
      ]
     },
     "execution_count": 13,
     "metadata": {},
     "output_type": "execute_result"
    }
   ],
   "source": [
    "IFrame(src='MViewtarea2.html', width=700, height=600)"
   ]
  },
  {
   "cell_type": "code",
   "execution_count": null,
   "id": "a99d4cbb",
   "metadata": {},
   "outputs": [],
   "source": []
  }
 ],
 "metadata": {
  "kernelspec": {
   "display_name": "Python 3",
   "language": "python",
   "name": "python3"
  },
  "language_info": {
   "codemirror_mode": {
    "name": "ipython",
    "version": 3
   },
   "file_extension": ".py",
   "mimetype": "text/x-python",
   "name": "python",
   "nbconvert_exporter": "python",
   "pygments_lexer": "ipython3",
   "version": "3.6.7"
  }
 },
 "nbformat": 4,
 "nbformat_minor": 5
}
